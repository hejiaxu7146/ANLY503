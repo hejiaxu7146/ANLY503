{
 "cells": [
  {
   "cell_type": "code",
   "execution_count": 4,
   "metadata": {},
   "outputs": [
    {
     "data": {
      "text/html": [
       "<div>\n",
       "<style scoped>\n",
       "    .dataframe tbody tr th:only-of-type {\n",
       "        vertical-align: middle;\n",
       "    }\n",
       "\n",
       "    .dataframe tbody tr th {\n",
       "        vertical-align: top;\n",
       "    }\n",
       "\n",
       "    .dataframe thead th {\n",
       "        text-align: right;\n",
       "    }\n",
       "</style>\n",
       "<table border=\"1\" class=\"dataframe\">\n",
       "  <thead>\n",
       "    <tr style=\"text-align: right;\">\n",
       "      <th></th>\n",
       "      <th>budget</th>\n",
       "      <th>genres</th>\n",
       "      <th>homepage</th>\n",
       "      <th>id</th>\n",
       "      <th>keywords</th>\n",
       "      <th>original_language</th>\n",
       "      <th>original_title</th>\n",
       "      <th>overview</th>\n",
       "      <th>popularity</th>\n",
       "      <th>production_companies</th>\n",
       "      <th>production_countries</th>\n",
       "      <th>release_date</th>\n",
       "      <th>revenue</th>\n",
       "      <th>runtime</th>\n",
       "      <th>spoken_languages</th>\n",
       "      <th>status</th>\n",
       "      <th>tagline</th>\n",
       "      <th>title</th>\n",
       "      <th>vote_average</th>\n",
       "      <th>vote_count</th>\n",
       "    </tr>\n",
       "  </thead>\n",
       "  <tbody>\n",
       "    <tr>\n",
       "      <th>0</th>\n",
       "      <td>237000000</td>\n",
       "      <td>[{\"id\": 28, \"name\": \"Action\"}, {\"id\": 12, \"nam...</td>\n",
       "      <td>http://www.avatarmovie.com/</td>\n",
       "      <td>19995</td>\n",
       "      <td>[{\"id\": 1463, \"name\": \"culture clash\"}, {\"id\":...</td>\n",
       "      <td>en</td>\n",
       "      <td>Avatar</td>\n",
       "      <td>In the 22nd century, a paraplegic Marine is di...</td>\n",
       "      <td>150.437577</td>\n",
       "      <td>[{\"name\": \"Ingenious Film Partners\", \"id\": 289...</td>\n",
       "      <td>[{\"iso_3166_1\": \"US\", \"name\": \"United States o...</td>\n",
       "      <td>2009-12-10</td>\n",
       "      <td>2787965087</td>\n",
       "      <td>162.0</td>\n",
       "      <td>[{\"iso_639_1\": \"en\", \"name\": \"English\"}, {\"iso...</td>\n",
       "      <td>Released</td>\n",
       "      <td>Enter the World of Pandora.</td>\n",
       "      <td>Avatar</td>\n",
       "      <td>7.2</td>\n",
       "      <td>11800</td>\n",
       "    </tr>\n",
       "    <tr>\n",
       "      <th>1</th>\n",
       "      <td>300000000</td>\n",
       "      <td>[{\"id\": 12, \"name\": \"Adventure\"}, {\"id\": 14, \"...</td>\n",
       "      <td>http://disney.go.com/disneypictures/pirates/</td>\n",
       "      <td>285</td>\n",
       "      <td>[{\"id\": 270, \"name\": \"ocean\"}, {\"id\": 726, \"na...</td>\n",
       "      <td>en</td>\n",
       "      <td>Pirates of the Caribbean: At World's End</td>\n",
       "      <td>Captain Barbossa, long believed to be dead, ha...</td>\n",
       "      <td>139.082615</td>\n",
       "      <td>[{\"name\": \"Walt Disney Pictures\", \"id\": 2}, {\"...</td>\n",
       "      <td>[{\"iso_3166_1\": \"US\", \"name\": \"United States o...</td>\n",
       "      <td>2007-05-19</td>\n",
       "      <td>961000000</td>\n",
       "      <td>169.0</td>\n",
       "      <td>[{\"iso_639_1\": \"en\", \"name\": \"English\"}]</td>\n",
       "      <td>Released</td>\n",
       "      <td>At the end of the world, the adventure begins.</td>\n",
       "      <td>Pirates of the Caribbean: At World's End</td>\n",
       "      <td>6.9</td>\n",
       "      <td>4500</td>\n",
       "    </tr>\n",
       "    <tr>\n",
       "      <th>2</th>\n",
       "      <td>245000000</td>\n",
       "      <td>[{\"id\": 28, \"name\": \"Action\"}, {\"id\": 12, \"nam...</td>\n",
       "      <td>http://www.sonypictures.com/movies/spectre/</td>\n",
       "      <td>206647</td>\n",
       "      <td>[{\"id\": 470, \"name\": \"spy\"}, {\"id\": 818, \"name...</td>\n",
       "      <td>en</td>\n",
       "      <td>Spectre</td>\n",
       "      <td>A cryptic message from Bond’s past sends him o...</td>\n",
       "      <td>107.376788</td>\n",
       "      <td>[{\"name\": \"Columbia Pictures\", \"id\": 5}, {\"nam...</td>\n",
       "      <td>[{\"iso_3166_1\": \"GB\", \"name\": \"United Kingdom\"...</td>\n",
       "      <td>2015-10-26</td>\n",
       "      <td>880674609</td>\n",
       "      <td>148.0</td>\n",
       "      <td>[{\"iso_639_1\": \"fr\", \"name\": \"Fran\\u00e7ais\"},...</td>\n",
       "      <td>Released</td>\n",
       "      <td>A Plan No One Escapes</td>\n",
       "      <td>Spectre</td>\n",
       "      <td>6.3</td>\n",
       "      <td>4466</td>\n",
       "    </tr>\n",
       "    <tr>\n",
       "      <th>3</th>\n",
       "      <td>250000000</td>\n",
       "      <td>[{\"id\": 28, \"name\": \"Action\"}, {\"id\": 80, \"nam...</td>\n",
       "      <td>http://www.thedarkknightrises.com/</td>\n",
       "      <td>49026</td>\n",
       "      <td>[{\"id\": 849, \"name\": \"dc comics\"}, {\"id\": 853,...</td>\n",
       "      <td>en</td>\n",
       "      <td>The Dark Knight Rises</td>\n",
       "      <td>Following the death of District Attorney Harve...</td>\n",
       "      <td>112.312950</td>\n",
       "      <td>[{\"name\": \"Legendary Pictures\", \"id\": 923}, {\"...</td>\n",
       "      <td>[{\"iso_3166_1\": \"US\", \"name\": \"United States o...</td>\n",
       "      <td>2012-07-16</td>\n",
       "      <td>1084939099</td>\n",
       "      <td>165.0</td>\n",
       "      <td>[{\"iso_639_1\": \"en\", \"name\": \"English\"}]</td>\n",
       "      <td>Released</td>\n",
       "      <td>The Legend Ends</td>\n",
       "      <td>The Dark Knight Rises</td>\n",
       "      <td>7.6</td>\n",
       "      <td>9106</td>\n",
       "    </tr>\n",
       "    <tr>\n",
       "      <th>4</th>\n",
       "      <td>260000000</td>\n",
       "      <td>[{\"id\": 28, \"name\": \"Action\"}, {\"id\": 12, \"nam...</td>\n",
       "      <td>http://movies.disney.com/john-carter</td>\n",
       "      <td>49529</td>\n",
       "      <td>[{\"id\": 818, \"name\": \"based on novel\"}, {\"id\":...</td>\n",
       "      <td>en</td>\n",
       "      <td>John Carter</td>\n",
       "      <td>John Carter is a war-weary, former military ca...</td>\n",
       "      <td>43.926995</td>\n",
       "      <td>[{\"name\": \"Walt Disney Pictures\", \"id\": 2}]</td>\n",
       "      <td>[{\"iso_3166_1\": \"US\", \"name\": \"United States o...</td>\n",
       "      <td>2012-03-07</td>\n",
       "      <td>284139100</td>\n",
       "      <td>132.0</td>\n",
       "      <td>[{\"iso_639_1\": \"en\", \"name\": \"English\"}]</td>\n",
       "      <td>Released</td>\n",
       "      <td>Lost in our world, found in another.</td>\n",
       "      <td>John Carter</td>\n",
       "      <td>6.1</td>\n",
       "      <td>2124</td>\n",
       "    </tr>\n",
       "    <tr>\n",
       "      <th>5</th>\n",
       "      <td>258000000</td>\n",
       "      <td>[{\"id\": 14, \"name\": \"Fantasy\"}, {\"id\": 28, \"na...</td>\n",
       "      <td>http://www.sonypictures.com/movies/spider-man3/</td>\n",
       "      <td>559</td>\n",
       "      <td>[{\"id\": 851, \"name\": \"dual identity\"}, {\"id\": ...</td>\n",
       "      <td>en</td>\n",
       "      <td>Spider-Man 3</td>\n",
       "      <td>The seemingly invincible Spider-Man goes up ag...</td>\n",
       "      <td>115.699814</td>\n",
       "      <td>[{\"name\": \"Columbia Pictures\", \"id\": 5}, {\"nam...</td>\n",
       "      <td>[{\"iso_3166_1\": \"US\", \"name\": \"United States o...</td>\n",
       "      <td>2007-05-01</td>\n",
       "      <td>890871626</td>\n",
       "      <td>139.0</td>\n",
       "      <td>[{\"iso_639_1\": \"en\", \"name\": \"English\"}, {\"iso...</td>\n",
       "      <td>Released</td>\n",
       "      <td>The battle within.</td>\n",
       "      <td>Spider-Man 3</td>\n",
       "      <td>5.9</td>\n",
       "      <td>3576</td>\n",
       "    </tr>\n",
       "    <tr>\n",
       "      <th>6</th>\n",
       "      <td>260000000</td>\n",
       "      <td>[{\"id\": 16, \"name\": \"Animation\"}, {\"id\": 10751...</td>\n",
       "      <td>http://disney.go.com/disneypictures/tangled/</td>\n",
       "      <td>38757</td>\n",
       "      <td>[{\"id\": 1562, \"name\": \"hostage\"}, {\"id\": 2343,...</td>\n",
       "      <td>en</td>\n",
       "      <td>Tangled</td>\n",
       "      <td>When the kingdom's most wanted-and most charmi...</td>\n",
       "      <td>48.681969</td>\n",
       "      <td>[{\"name\": \"Walt Disney Pictures\", \"id\": 2}, {\"...</td>\n",
       "      <td>[{\"iso_3166_1\": \"US\", \"name\": \"United States o...</td>\n",
       "      <td>2010-11-24</td>\n",
       "      <td>591794936</td>\n",
       "      <td>100.0</td>\n",
       "      <td>[{\"iso_639_1\": \"en\", \"name\": \"English\"}]</td>\n",
       "      <td>Released</td>\n",
       "      <td>They're taking adventure to new lengths.</td>\n",
       "      <td>Tangled</td>\n",
       "      <td>7.4</td>\n",
       "      <td>3330</td>\n",
       "    </tr>\n",
       "    <tr>\n",
       "      <th>7</th>\n",
       "      <td>280000000</td>\n",
       "      <td>[{\"id\": 28, \"name\": \"Action\"}, {\"id\": 12, \"nam...</td>\n",
       "      <td>http://marvel.com/movies/movie/193/avengers_ag...</td>\n",
       "      <td>99861</td>\n",
       "      <td>[{\"id\": 8828, \"name\": \"marvel comic\"}, {\"id\": ...</td>\n",
       "      <td>en</td>\n",
       "      <td>Avengers: Age of Ultron</td>\n",
       "      <td>When Tony Stark tries to jumpstart a dormant p...</td>\n",
       "      <td>134.279229</td>\n",
       "      <td>[{\"name\": \"Marvel Studios\", \"id\": 420}, {\"name...</td>\n",
       "      <td>[{\"iso_3166_1\": \"US\", \"name\": \"United States o...</td>\n",
       "      <td>2015-04-22</td>\n",
       "      <td>1405403694</td>\n",
       "      <td>141.0</td>\n",
       "      <td>[{\"iso_639_1\": \"en\", \"name\": \"English\"}]</td>\n",
       "      <td>Released</td>\n",
       "      <td>A New Age Has Come.</td>\n",
       "      <td>Avengers: Age of Ultron</td>\n",
       "      <td>7.3</td>\n",
       "      <td>6767</td>\n",
       "    </tr>\n",
       "    <tr>\n",
       "      <th>8</th>\n",
       "      <td>250000000</td>\n",
       "      <td>[{\"id\": 12, \"name\": \"Adventure\"}, {\"id\": 14, \"...</td>\n",
       "      <td>http://harrypotter.warnerbros.com/harrypottera...</td>\n",
       "      <td>767</td>\n",
       "      <td>[{\"id\": 616, \"name\": \"witch\"}, {\"id\": 2343, \"n...</td>\n",
       "      <td>en</td>\n",
       "      <td>Harry Potter and the Half-Blood Prince</td>\n",
       "      <td>As Harry begins his sixth year at Hogwarts, he...</td>\n",
       "      <td>98.885637</td>\n",
       "      <td>[{\"name\": \"Warner Bros.\", \"id\": 6194}, {\"name\"...</td>\n",
       "      <td>[{\"iso_3166_1\": \"GB\", \"name\": \"United Kingdom\"...</td>\n",
       "      <td>2009-07-07</td>\n",
       "      <td>933959197</td>\n",
       "      <td>153.0</td>\n",
       "      <td>[{\"iso_639_1\": \"en\", \"name\": \"English\"}]</td>\n",
       "      <td>Released</td>\n",
       "      <td>Dark Secrets Revealed</td>\n",
       "      <td>Harry Potter and the Half-Blood Prince</td>\n",
       "      <td>7.4</td>\n",
       "      <td>5293</td>\n",
       "    </tr>\n",
       "    <tr>\n",
       "      <th>9</th>\n",
       "      <td>250000000</td>\n",
       "      <td>[{\"id\": 28, \"name\": \"Action\"}, {\"id\": 12, \"nam...</td>\n",
       "      <td>http://www.batmanvsupermandawnofjustice.com/</td>\n",
       "      <td>209112</td>\n",
       "      <td>[{\"id\": 849, \"name\": \"dc comics\"}, {\"id\": 7002...</td>\n",
       "      <td>en</td>\n",
       "      <td>Batman v Superman: Dawn of Justice</td>\n",
       "      <td>Fearing the actions of a god-like Super Hero l...</td>\n",
       "      <td>155.790452</td>\n",
       "      <td>[{\"name\": \"DC Comics\", \"id\": 429}, {\"name\": \"A...</td>\n",
       "      <td>[{\"iso_3166_1\": \"US\", \"name\": \"United States o...</td>\n",
       "      <td>2016-03-23</td>\n",
       "      <td>873260194</td>\n",
       "      <td>151.0</td>\n",
       "      <td>[{\"iso_639_1\": \"en\", \"name\": \"English\"}]</td>\n",
       "      <td>Released</td>\n",
       "      <td>Justice or revenge</td>\n",
       "      <td>Batman v Superman: Dawn of Justice</td>\n",
       "      <td>5.7</td>\n",
       "      <td>7004</td>\n",
       "    </tr>\n",
       "    <tr>\n",
       "      <th>11</th>\n",
       "      <td>200000000</td>\n",
       "      <td>[{\"id\": 12, \"name\": \"Adventure\"}, {\"id\": 28, \"...</td>\n",
       "      <td>http://www.mgm.com/view/movie/234/Quantum-of-S...</td>\n",
       "      <td>10764</td>\n",
       "      <td>[{\"id\": 627, \"name\": \"killing\"}, {\"id\": 1568, ...</td>\n",
       "      <td>en</td>\n",
       "      <td>Quantum of Solace</td>\n",
       "      <td>Quantum of Solace continues the adventures of ...</td>\n",
       "      <td>107.928811</td>\n",
       "      <td>[{\"name\": \"Eon Productions\", \"id\": 7576}]</td>\n",
       "      <td>[{\"iso_3166_1\": \"GB\", \"name\": \"United Kingdom\"...</td>\n",
       "      <td>2008-10-30</td>\n",
       "      <td>586090727</td>\n",
       "      <td>106.0</td>\n",
       "      <td>[{\"iso_639_1\": \"en\", \"name\": \"English\"}, {\"iso...</td>\n",
       "      <td>Released</td>\n",
       "      <td>For love, for hate, for justice, for revenge.</td>\n",
       "      <td>Quantum of Solace</td>\n",
       "      <td>6.1</td>\n",
       "      <td>2965</td>\n",
       "    </tr>\n",
       "  </tbody>\n",
       "</table>\n",
       "</div>"
      ],
      "text/plain": [
       "       budget                                             genres  \\\n",
       "0   237000000  [{\"id\": 28, \"name\": \"Action\"}, {\"id\": 12, \"nam...   \n",
       "1   300000000  [{\"id\": 12, \"name\": \"Adventure\"}, {\"id\": 14, \"...   \n",
       "2   245000000  [{\"id\": 28, \"name\": \"Action\"}, {\"id\": 12, \"nam...   \n",
       "3   250000000  [{\"id\": 28, \"name\": \"Action\"}, {\"id\": 80, \"nam...   \n",
       "4   260000000  [{\"id\": 28, \"name\": \"Action\"}, {\"id\": 12, \"nam...   \n",
       "5   258000000  [{\"id\": 14, \"name\": \"Fantasy\"}, {\"id\": 28, \"na...   \n",
       "6   260000000  [{\"id\": 16, \"name\": \"Animation\"}, {\"id\": 10751...   \n",
       "7   280000000  [{\"id\": 28, \"name\": \"Action\"}, {\"id\": 12, \"nam...   \n",
       "8   250000000  [{\"id\": 12, \"name\": \"Adventure\"}, {\"id\": 14, \"...   \n",
       "9   250000000  [{\"id\": 28, \"name\": \"Action\"}, {\"id\": 12, \"nam...   \n",
       "11  200000000  [{\"id\": 12, \"name\": \"Adventure\"}, {\"id\": 28, \"...   \n",
       "\n",
       "                                             homepage      id  \\\n",
       "0                         http://www.avatarmovie.com/   19995   \n",
       "1        http://disney.go.com/disneypictures/pirates/     285   \n",
       "2         http://www.sonypictures.com/movies/spectre/  206647   \n",
       "3                  http://www.thedarkknightrises.com/   49026   \n",
       "4                http://movies.disney.com/john-carter   49529   \n",
       "5     http://www.sonypictures.com/movies/spider-man3/     559   \n",
       "6        http://disney.go.com/disneypictures/tangled/   38757   \n",
       "7   http://marvel.com/movies/movie/193/avengers_ag...   99861   \n",
       "8   http://harrypotter.warnerbros.com/harrypottera...     767   \n",
       "9        http://www.batmanvsupermandawnofjustice.com/  209112   \n",
       "11  http://www.mgm.com/view/movie/234/Quantum-of-S...   10764   \n",
       "\n",
       "                                             keywords original_language  \\\n",
       "0   [{\"id\": 1463, \"name\": \"culture clash\"}, {\"id\":...                en   \n",
       "1   [{\"id\": 270, \"name\": \"ocean\"}, {\"id\": 726, \"na...                en   \n",
       "2   [{\"id\": 470, \"name\": \"spy\"}, {\"id\": 818, \"name...                en   \n",
       "3   [{\"id\": 849, \"name\": \"dc comics\"}, {\"id\": 853,...                en   \n",
       "4   [{\"id\": 818, \"name\": \"based on novel\"}, {\"id\":...                en   \n",
       "5   [{\"id\": 851, \"name\": \"dual identity\"}, {\"id\": ...                en   \n",
       "6   [{\"id\": 1562, \"name\": \"hostage\"}, {\"id\": 2343,...                en   \n",
       "7   [{\"id\": 8828, \"name\": \"marvel comic\"}, {\"id\": ...                en   \n",
       "8   [{\"id\": 616, \"name\": \"witch\"}, {\"id\": 2343, \"n...                en   \n",
       "9   [{\"id\": 849, \"name\": \"dc comics\"}, {\"id\": 7002...                en   \n",
       "11  [{\"id\": 627, \"name\": \"killing\"}, {\"id\": 1568, ...                en   \n",
       "\n",
       "                              original_title  \\\n",
       "0                                     Avatar   \n",
       "1   Pirates of the Caribbean: At World's End   \n",
       "2                                    Spectre   \n",
       "3                      The Dark Knight Rises   \n",
       "4                                John Carter   \n",
       "5                               Spider-Man 3   \n",
       "6                                    Tangled   \n",
       "7                    Avengers: Age of Ultron   \n",
       "8     Harry Potter and the Half-Blood Prince   \n",
       "9         Batman v Superman: Dawn of Justice   \n",
       "11                         Quantum of Solace   \n",
       "\n",
       "                                             overview  popularity  \\\n",
       "0   In the 22nd century, a paraplegic Marine is di...  150.437577   \n",
       "1   Captain Barbossa, long believed to be dead, ha...  139.082615   \n",
       "2   A cryptic message from Bond’s past sends him o...  107.376788   \n",
       "3   Following the death of District Attorney Harve...  112.312950   \n",
       "4   John Carter is a war-weary, former military ca...   43.926995   \n",
       "5   The seemingly invincible Spider-Man goes up ag...  115.699814   \n",
       "6   When the kingdom's most wanted-and most charmi...   48.681969   \n",
       "7   When Tony Stark tries to jumpstart a dormant p...  134.279229   \n",
       "8   As Harry begins his sixth year at Hogwarts, he...   98.885637   \n",
       "9   Fearing the actions of a god-like Super Hero l...  155.790452   \n",
       "11  Quantum of Solace continues the adventures of ...  107.928811   \n",
       "\n",
       "                                 production_companies  \\\n",
       "0   [{\"name\": \"Ingenious Film Partners\", \"id\": 289...   \n",
       "1   [{\"name\": \"Walt Disney Pictures\", \"id\": 2}, {\"...   \n",
       "2   [{\"name\": \"Columbia Pictures\", \"id\": 5}, {\"nam...   \n",
       "3   [{\"name\": \"Legendary Pictures\", \"id\": 923}, {\"...   \n",
       "4         [{\"name\": \"Walt Disney Pictures\", \"id\": 2}]   \n",
       "5   [{\"name\": \"Columbia Pictures\", \"id\": 5}, {\"nam...   \n",
       "6   [{\"name\": \"Walt Disney Pictures\", \"id\": 2}, {\"...   \n",
       "7   [{\"name\": \"Marvel Studios\", \"id\": 420}, {\"name...   \n",
       "8   [{\"name\": \"Warner Bros.\", \"id\": 6194}, {\"name\"...   \n",
       "9   [{\"name\": \"DC Comics\", \"id\": 429}, {\"name\": \"A...   \n",
       "11          [{\"name\": \"Eon Productions\", \"id\": 7576}]   \n",
       "\n",
       "                                 production_countries release_date  \\\n",
       "0   [{\"iso_3166_1\": \"US\", \"name\": \"United States o...   2009-12-10   \n",
       "1   [{\"iso_3166_1\": \"US\", \"name\": \"United States o...   2007-05-19   \n",
       "2   [{\"iso_3166_1\": \"GB\", \"name\": \"United Kingdom\"...   2015-10-26   \n",
       "3   [{\"iso_3166_1\": \"US\", \"name\": \"United States o...   2012-07-16   \n",
       "4   [{\"iso_3166_1\": \"US\", \"name\": \"United States o...   2012-03-07   \n",
       "5   [{\"iso_3166_1\": \"US\", \"name\": \"United States o...   2007-05-01   \n",
       "6   [{\"iso_3166_1\": \"US\", \"name\": \"United States o...   2010-11-24   \n",
       "7   [{\"iso_3166_1\": \"US\", \"name\": \"United States o...   2015-04-22   \n",
       "8   [{\"iso_3166_1\": \"GB\", \"name\": \"United Kingdom\"...   2009-07-07   \n",
       "9   [{\"iso_3166_1\": \"US\", \"name\": \"United States o...   2016-03-23   \n",
       "11  [{\"iso_3166_1\": \"GB\", \"name\": \"United Kingdom\"...   2008-10-30   \n",
       "\n",
       "       revenue  runtime                                   spoken_languages  \\\n",
       "0   2787965087    162.0  [{\"iso_639_1\": \"en\", \"name\": \"English\"}, {\"iso...   \n",
       "1    961000000    169.0           [{\"iso_639_1\": \"en\", \"name\": \"English\"}]   \n",
       "2    880674609    148.0  [{\"iso_639_1\": \"fr\", \"name\": \"Fran\\u00e7ais\"},...   \n",
       "3   1084939099    165.0           [{\"iso_639_1\": \"en\", \"name\": \"English\"}]   \n",
       "4    284139100    132.0           [{\"iso_639_1\": \"en\", \"name\": \"English\"}]   \n",
       "5    890871626    139.0  [{\"iso_639_1\": \"en\", \"name\": \"English\"}, {\"iso...   \n",
       "6    591794936    100.0           [{\"iso_639_1\": \"en\", \"name\": \"English\"}]   \n",
       "7   1405403694    141.0           [{\"iso_639_1\": \"en\", \"name\": \"English\"}]   \n",
       "8    933959197    153.0           [{\"iso_639_1\": \"en\", \"name\": \"English\"}]   \n",
       "9    873260194    151.0           [{\"iso_639_1\": \"en\", \"name\": \"English\"}]   \n",
       "11   586090727    106.0  [{\"iso_639_1\": \"en\", \"name\": \"English\"}, {\"iso...   \n",
       "\n",
       "      status                                         tagline  \\\n",
       "0   Released                     Enter the World of Pandora.   \n",
       "1   Released  At the end of the world, the adventure begins.   \n",
       "2   Released                           A Plan No One Escapes   \n",
       "3   Released                                 The Legend Ends   \n",
       "4   Released            Lost in our world, found in another.   \n",
       "5   Released                              The battle within.   \n",
       "6   Released        They're taking adventure to new lengths.   \n",
       "7   Released                             A New Age Has Come.   \n",
       "8   Released                           Dark Secrets Revealed   \n",
       "9   Released                              Justice or revenge   \n",
       "11  Released   For love, for hate, for justice, for revenge.   \n",
       "\n",
       "                                       title  vote_average  vote_count  \n",
       "0                                     Avatar           7.2       11800  \n",
       "1   Pirates of the Caribbean: At World's End           6.9        4500  \n",
       "2                                    Spectre           6.3        4466  \n",
       "3                      The Dark Knight Rises           7.6        9106  \n",
       "4                                John Carter           6.1        2124  \n",
       "5                               Spider-Man 3           5.9        3576  \n",
       "6                                    Tangled           7.4        3330  \n",
       "7                    Avengers: Age of Ultron           7.3        6767  \n",
       "8     Harry Potter and the Half-Blood Prince           7.4        5293  \n",
       "9         Batman v Superman: Dawn of Justice           5.7        7004  \n",
       "11                         Quantum of Solace           6.1        2965  "
      ]
     },
     "execution_count": 4,
     "metadata": {},
     "output_type": "execute_result"
    }
   ],
   "source": [
    "import pandas as pd\n",
    "import numpy as np\n",
    "df = pd.read_csv(\"movies.csv\")\n",
    "df = df.dropna()\n",
    "df = df[df.astype(str)[\"genres\"] != '[]']\n",
    "df = df[df.astype(str)[\"keywords\"] != '[]']\n",
    "df = df[df.astype(str)[\"production_companies\"] != '[]']\n",
    "df = df[df.astype(str)[\"production_countries\"] != '[]']\n",
    "df = df[df.astype(str)[\"spoken_languages\"] != '[]']\n",
    "df.head(11)"
   ]
  },
  {
   "cell_type": "code",
   "execution_count": 25,
   "metadata": {},
   "outputs": [
    {
     "data": {
      "text/plain": [
       "(1407, 20)"
      ]
     },
     "execution_count": 25,
     "metadata": {},
     "output_type": "execute_result"
    }
   ],
   "source": [
    "df.shape"
   ]
  },
  {
   "cell_type": "code",
   "execution_count": 6,
   "metadata": {},
   "outputs": [],
   "source": [
    "import ast\n",
    "gen = []\n",
    "for w in df[\"genres\"]:\n",
    "    w = ast.literal_eval(w)\n",
    "    a = w[0][\"name\"]\n",
    "    gen.append(a)\n",
    "    #print(w[0][\"name\"])"
   ]
  },
  {
   "cell_type": "code",
   "execution_count": 7,
   "metadata": {},
   "outputs": [
    {
     "data": {
      "text/plain": [
       "'[{\"id\": 1463, \"name\": \"culture clash\"}, {\"id\": 2964, \"name\": \"future\"}, {\"id\": 3386, \"name\": \"space war\"}, {\"id\": 3388, \"name\": \"space colony\"}, {\"id\": 3679, \"name\": \"society\"}, {\"id\": 3801, \"name\": \"space travel\"}, {\"id\": 9685, \"name\": \"futuristic\"}, {\"id\": 9840, \"name\": \"romance\"}, {\"id\": 9882, \"name\": \"space\"}, {\"id\": 9951, \"name\": \"alien\"}, {\"id\": 10148, \"name\": \"tribe\"}, {\"id\": 10158, \"name\": \"alien planet\"}, {\"id\": 10987, \"name\": \"cgi\"}, {\"id\": 11399, \"name\": \"marine\"}, {\"id\": 13065, \"name\": \"soldier\"}, {\"id\": 14643, \"name\": \"battle\"}, {\"id\": 14720, \"name\": \"love affair\"}, {\"id\": 165431, \"name\": \"anti war\"}, {\"id\": 193554, \"name\": \"power relations\"}, {\"id\": 206690, \"name\": \"mind and soul\"}, {\"id\": 209714, \"name\": \"3d\"}]'"
      ]
     },
     "execution_count": 7,
     "metadata": {},
     "output_type": "execute_result"
    }
   ],
   "source": [
    "d = df[\"keywords\"][0]\n",
    "d"
   ]
  },
  {
   "cell_type": "code",
   "execution_count": 8,
   "metadata": {},
   "outputs": [
    {
     "data": {
      "text/plain": [
       "str"
      ]
     },
     "execution_count": 8,
     "metadata": {},
     "output_type": "execute_result"
    }
   ],
   "source": [
    "type(d)"
   ]
  },
  {
   "cell_type": "code",
   "execution_count": 9,
   "metadata": {},
   "outputs": [
    {
     "data": {
      "text/plain": [
       "[{'id': 1463, 'name': 'culture clash'},\n",
       " {'id': 2964, 'name': 'future'},\n",
       " {'id': 3386, 'name': 'space war'},\n",
       " {'id': 3388, 'name': 'space colony'},\n",
       " {'id': 3679, 'name': 'society'},\n",
       " {'id': 3801, 'name': 'space travel'},\n",
       " {'id': 9685, 'name': 'futuristic'},\n",
       " {'id': 9840, 'name': 'romance'},\n",
       " {'id': 9882, 'name': 'space'},\n",
       " {'id': 9951, 'name': 'alien'},\n",
       " {'id': 10148, 'name': 'tribe'},\n",
       " {'id': 10158, 'name': 'alien planet'},\n",
       " {'id': 10987, 'name': 'cgi'},\n",
       " {'id': 11399, 'name': 'marine'},\n",
       " {'id': 13065, 'name': 'soldier'},\n",
       " {'id': 14643, 'name': 'battle'},\n",
       " {'id': 14720, 'name': 'love affair'},\n",
       " {'id': 165431, 'name': 'anti war'},\n",
       " {'id': 193554, 'name': 'power relations'},\n",
       " {'id': 206690, 'name': 'mind and soul'},\n",
       " {'id': 209714, 'name': '3d'}]"
      ]
     },
     "execution_count": 9,
     "metadata": {},
     "output_type": "execute_result"
    }
   ],
   "source": [
    "import ast\n",
    "dd = ast.literal_eval(d)\n",
    "dd"
   ]
  },
  {
   "cell_type": "code",
   "execution_count": 10,
   "metadata": {},
   "outputs": [
    {
     "data": {
      "text/plain": [
       "0                Action\n",
       "1             Adventure\n",
       "2                Action\n",
       "3                Action\n",
       "4                Action\n",
       "5               Fantasy\n",
       "6             Animation\n",
       "7                Action\n",
       "8             Adventure\n",
       "9                Action\n",
       "10            Adventure\n",
       "11            Adventure\n",
       "12               Action\n",
       "13               Action\n",
       "14      Science Fiction\n",
       "15            Adventure\n",
       "16               Action\n",
       "17               Action\n",
       "18               Action\n",
       "19               Action\n",
       "20            Adventure\n",
       "21            Adventure\n",
       "22                Drama\n",
       "23            Adventure\n",
       "24               Action\n",
       "25               Action\n",
       "26               Action\n",
       "27               Action\n",
       "28               Family\n",
       "29      Science Fiction\n",
       "             ...       \n",
       "1377              Drama\n",
       "1378              Music\n",
       "1379             Comedy\n",
       "1380             Comedy\n",
       "1381              Drama\n",
       "1382           Thriller\n",
       "1383              Drama\n",
       "1384              Drama\n",
       "1385           Thriller\n",
       "1386              Drama\n",
       "1387            Foreign\n",
       "1388              Drama\n",
       "1389             Comedy\n",
       "1390    Science Fiction\n",
       "1391              Drama\n",
       "1392              Drama\n",
       "1393             Action\n",
       "1394              Drama\n",
       "1395        Documentary\n",
       "1396              Drama\n",
       "1397              Drama\n",
       "1398              Drama\n",
       "1399             Horror\n",
       "1400            Mystery\n",
       "1401            Romance\n",
       "1402           Thriller\n",
       "1403        Documentary\n",
       "1404             Comedy\n",
       "1405             Horror\n",
       "1406    Science Fiction\n",
       "Name: genres, Length: 1407, dtype: object"
      ]
     },
     "execution_count": 10,
     "metadata": {},
     "output_type": "execute_result"
    }
   ],
   "source": [
    "cleanmovie = pd.DataFrame()\n",
    "cleanmovie[\"genres\"] = gen\n",
    "cleanmovie[\"genres\"]"
   ]
  },
  {
   "cell_type": "code",
   "execution_count": 11,
   "metadata": {},
   "outputs": [
    {
     "data": {
      "text/plain": [
       "1407"
      ]
     },
     "execution_count": 11,
     "metadata": {},
     "output_type": "execute_result"
    }
   ],
   "source": [
    "import ast\n",
    "com = []\n",
    "for w in df[\"production_companies\"]:\n",
    "    w = ast.literal_eval(w)\n",
    "    a = w[0][\"name\"]\n",
    "    com.append(a)\n",
    "    #print(w[0][\"name\"])\n",
    "len(com)"
   ]
  },
  {
   "cell_type": "code",
   "execution_count": 12,
   "metadata": {},
   "outputs": [],
   "source": [
    "cleanmovie[\"companies\"] = com"
   ]
  },
  {
   "cell_type": "code",
   "execution_count": 13,
   "metadata": {},
   "outputs": [
    {
     "data": {
      "text/plain": [
       "1407"
      ]
     },
     "execution_count": 13,
     "metadata": {},
     "output_type": "execute_result"
    }
   ],
   "source": [
    "import ast\n",
    "cou = []\n",
    "for w in df[\"production_countries\"]:\n",
    "    w = ast.literal_eval(w)\n",
    "    a = w[0][\"name\"]\n",
    "    cou.append(a)\n",
    "    #print(w[0][\"name\"])\n",
    "len(cou)"
   ]
  },
  {
   "cell_type": "code",
   "execution_count": 14,
   "metadata": {},
   "outputs": [],
   "source": [
    "cleanmovie[\"countries\"] = cou"
   ]
  },
  {
   "cell_type": "code",
   "execution_count": 15,
   "metadata": {},
   "outputs": [],
   "source": [
    "import ast\n",
    "lan = []\n",
    "for w in df[\"spoken_languages\"]:\n",
    "    w = ast.literal_eval(w)\n",
    "    a = w[0][\"name\"]\n",
    "    lan.append(a)\n",
    "    #print(w[0][\"name\"])\n",
    "len(lan)\n",
    "cleanmovie[\"languages\"] = lan"
   ]
  },
  {
   "cell_type": "code",
   "execution_count": 16,
   "metadata": {},
   "outputs": [
    {
     "data": {
      "text/plain": [
       "Index(['budget', 'genres', 'homepage', 'id', 'keywords', 'original_language',\n",
       "       'original_title', 'overview', 'popularity', 'production_companies',\n",
       "       'production_countries', 'release_date', 'revenue', 'runtime',\n",
       "       'spoken_languages', 'status', 'tagline', 'title', 'vote_average',\n",
       "       'vote_count'],\n",
       "      dtype='object')"
      ]
     },
     "execution_count": 16,
     "metadata": {},
     "output_type": "execute_result"
    }
   ],
   "source": [
    "df.columns"
   ]
  },
  {
   "cell_type": "code",
   "execution_count": 17,
   "metadata": {},
   "outputs": [],
   "source": [
    "cleanmovie[\"budget\"] = df[\"budget\"]\n",
    "cleanmovie[\"keywords\"] = df[\"keywords\"]\n",
    "cleanmovie['title'] = df['title']\n",
    "cleanmovie['overview'] = df['overview']\n",
    "cleanmovie['popularity'] = df['popularity']\n",
    "cleanmovie['release_date'] = df['release_date']\n",
    "cleanmovie['revenue'] = df['revenue']\n",
    "cleanmovie['runtime'] = df['runtime']\n",
    "cleanmovie['release_date'] = df['release_date']\n",
    "cleanmovie['tagline'] = df['tagline']\n",
    "cleanmovie['vote_average'] = df['vote_average']"
   ]
  },
  {
   "cell_type": "code",
   "execution_count": 18,
   "metadata": {},
   "outputs": [
    {
     "data": {
      "text/plain": [
       "Index(['genres', 'companies', 'countries', 'languages', 'budget', 'keywords',\n",
       "       'title', 'overview', 'popularity', 'release_date', 'revenue', 'runtime',\n",
       "       'tagline', 'vote_average'],\n",
       "      dtype='object')"
      ]
     },
     "execution_count": 18,
     "metadata": {},
     "output_type": "execute_result"
    }
   ],
   "source": [
    "cleanmovie.columns"
   ]
  },
  {
   "cell_type": "code",
   "execution_count": 19,
   "metadata": {},
   "outputs": [
    {
     "data": {
      "text/plain": [
       "'[{\"id\": 1463, \"name\": \"culture clash\"}, {\"id\": 2964, \"name\": \"future\"}, {\"id\": 3386, \"name\": \"space war\"}, {\"id\": 3388, \"name\": \"space colony\"}, {\"id\": 3679, \"name\": \"society\"}, {\"id\": 3801, \"name\": \"space travel\"}, {\"id\": 9685, \"name\": \"futuristic\"}, {\"id\": 9840, \"name\": \"romance\"}, {\"id\": 9882, \"name\": \"space\"}, {\"id\": 9951, \"name\": \"alien\"}, {\"id\": 10148, \"name\": \"tribe\"}, {\"id\": 10158, \"name\": \"alien planet\"}, {\"id\": 10987, \"name\": \"cgi\"}, {\"id\": 11399, \"name\": \"marine\"}, {\"id\": 13065, \"name\": \"soldier\"}, {\"id\": 14643, \"name\": \"battle\"}, {\"id\": 14720, \"name\": \"love affair\"}, {\"id\": 165431, \"name\": \"anti war\"}, {\"id\": 193554, \"name\": \"power relations\"}, {\"id\": 206690, \"name\": \"mind and soul\"}, {\"id\": 209714, \"name\": \"3d\"}]'"
      ]
     },
     "execution_count": 19,
     "metadata": {},
     "output_type": "execute_result"
    }
   ],
   "source": [
    "cleanmovie.keywords[0]"
   ]
  },
  {
   "cell_type": "code",
   "execution_count": 20,
   "metadata": {},
   "outputs": [
    {
     "data": {
      "text/plain": [
       "1407"
      ]
     },
     "execution_count": 20,
     "metadata": {},
     "output_type": "execute_result"
    }
   ],
   "source": [
    "import ast\n",
    "key = []\n",
    "for w in df[\"keywords\"]:\n",
    "    w = ast.literal_eval(w)\n",
    "    names = []\n",
    "    for i in range(len(w)):\n",
    "        a = w[i][\"name\"]\n",
    "        names.append(a)\n",
    "    key.append(names)\n",
    "        #print(w[0][\"name\"])\n",
    "len(key)"
   ]
  },
  {
   "cell_type": "code",
   "execution_count": 21,
   "metadata": {},
   "outputs": [
    {
     "data": {
      "text/plain": [
       "['culture clash',\n",
       " 'future',\n",
       " 'space war',\n",
       " 'space colony',\n",
       " 'society',\n",
       " 'space travel',\n",
       " 'futuristic',\n",
       " 'romance',\n",
       " 'space',\n",
       " 'alien',\n",
       " 'tribe',\n",
       " 'alien planet',\n",
       " 'cgi',\n",
       " 'marine',\n",
       " 'soldier',\n",
       " 'battle',\n",
       " 'love affair',\n",
       " 'anti war',\n",
       " 'power relations',\n",
       " 'mind and soul',\n",
       " '3d']"
      ]
     },
     "execution_count": 21,
     "metadata": {},
     "output_type": "execute_result"
    }
   ],
   "source": [
    "key[0]"
   ]
  },
  {
   "cell_type": "code",
   "execution_count": 22,
   "metadata": {},
   "outputs": [
    {
     "data": {
      "text/plain": [
       "['culture clash',\n",
       " 'future',\n",
       " 'space war',\n",
       " 'space colony',\n",
       " 'society',\n",
       " 'space travel',\n",
       " 'futuristic',\n",
       " 'romance',\n",
       " 'space',\n",
       " 'alien',\n",
       " 'tribe',\n",
       " 'alien planet',\n",
       " 'cgi',\n",
       " 'marine',\n",
       " 'soldier',\n",
       " 'battle',\n",
       " 'love affair',\n",
       " 'anti war',\n",
       " 'power relations',\n",
       " 'mind and soul',\n",
       " '3d']"
      ]
     },
     "execution_count": 22,
     "metadata": {},
     "output_type": "execute_result"
    }
   ],
   "source": [
    "cleanmovie[\"keywords\"] = key\n",
    "cleanmovie[\"keywords\"][0]"
   ]
  },
  {
   "cell_type": "code",
   "execution_count": 23,
   "metadata": {},
   "outputs": [
    {
     "data": {
      "text/plain": [
       "Index(['genres', 'companies', 'countries', 'languages', 'budget', 'keywords',\n",
       "       'title', 'overview', 'popularity', 'release_date', 'revenue', 'runtime',\n",
       "       'tagline', 'vote_average'],\n",
       "      dtype='object')"
      ]
     },
     "execution_count": 23,
     "metadata": {},
     "output_type": "execute_result"
    }
   ],
   "source": [
    "cleanmovie.columns"
   ]
  },
  {
   "cell_type": "code",
   "execution_count": 24,
   "metadata": {},
   "outputs": [],
   "source": [
    "cleanmovie.to_csv(\"cleanmoviefinal.csv\", index = False)"
   ]
  },
  {
   "cell_type": "code",
   "execution_count": 26,
   "metadata": {},
   "outputs": [],
   "source": [
    "df.to_csv(\"test.csv\", index=False)"
   ]
  },
  {
   "cell_type": "code",
   "execution_count": 27,
   "metadata": {},
   "outputs": [],
   "source": [
    "df[\"genres\"] = gen\n",
    "df[\"companies\"] = com\n",
    "df[\"countries\"] = cou\n",
    "df[\"languages\"] = lan\n",
    "df[\"keywords\"] = key\n",
    "df.to_csv(\"test1.csv\", index=False)"
   ]
  },
  {
   "cell_type": "code",
   "execution_count": 28,
   "metadata": {},
   "outputs": [
    {
     "data": {
      "text/plain": [
       "Index(['budget', 'genres', 'homepage', 'id', 'keywords', 'original_language',\n",
       "       'original_title', 'overview', 'popularity', 'production_companies',\n",
       "       'production_countries', 'release_date', 'revenue', 'runtime',\n",
       "       'spoken_languages', 'status', 'tagline', 'title', 'vote_average',\n",
       "       'vote_count', 'companies', 'countries', 'languages'],\n",
       "      dtype='object')"
      ]
     },
     "execution_count": 28,
     "metadata": {},
     "output_type": "execute_result"
    }
   ],
   "source": [
    "import pandas as pd\n",
    "dfmovie = pd.read_csv(\"test1.csv\")\n",
    "dfmovie.columns"
   ]
  },
  {
   "cell_type": "code",
   "execution_count": 31,
   "metadata": {},
   "outputs": [],
   "source": [
    "dfmovie = dfmovie.drop([\"homepage\", \"id\", \"original_title\", 'production_companies', \n",
    "              'production_countries', 'spoken_languages', 'status',\n",
    "             'vote_count'], axis =1)"
   ]
  },
  {
   "cell_type": "code",
   "execution_count": 32,
   "metadata": {},
   "outputs": [],
   "source": [
    "dfmovie.to_csv(\"finalmovie.csv\", index=False)"
   ]
  },
  {
   "cell_type": "code",
   "execution_count": null,
   "metadata": {},
   "outputs": [],
   "source": []
  }
 ],
 "metadata": {
  "kernelspec": {
   "display_name": "Python 3",
   "language": "python",
   "name": "python3"
  },
  "language_info": {
   "codemirror_mode": {
    "name": "ipython",
    "version": 3
   },
   "file_extension": ".py",
   "mimetype": "text/x-python",
   "name": "python",
   "nbconvert_exporter": "python",
   "pygments_lexer": "ipython3",
   "version": "3.6.6"
  }
 },
 "nbformat": 4,
 "nbformat_minor": 2
}
